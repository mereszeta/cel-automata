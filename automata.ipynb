{
 "cells": [
  {
   "cell_type": "markdown",
   "source": [
    "Bazujemy na funkcjach rysujących stworzonych przy okazji poprzednich laboratoriów przez Tomasza Michalca:\n",
    "https://github.com/Chimstaz/PyCXlab\n",
    "Zadanie:\n",
    "--\n",
    "* Uzupełnienie następujących funkcji: \n",
    " * zjadanie\n",
    " * reprodukcja\n",
    " * zwrócenie wszystkich możliwych sąsiadów\n",
    " * zachowanie poszczególnej komórki\n",
    "* Zasady:\n",
    "  * Trzy rodzaje komórek, ofiara drapieżnik i komórka pusta\n",
    "  * Bazujemy na sąsiedztwie Moore'a\n",
    "  * Osobniki poruszają się w losowe strony\n",
    "  * Ofiara:\n",
    "   * Zdrowie rośnie w miarę poruszania sie\n",
    "   * Kiedy zdrowie osiągnie pewien próg tworzą nowego osobnika ( ofiarę lub drapieżnika z równym prawdopodobieństwem) i ich zdrowie resetuje się do bazowego\n",
    "  * Drapieżnik:\n",
    "   * Zdrowie maleje w miarę poruszania się \n",
    "   * Gdy spotkają ofiarę zjadają ją przejmując jej zdrowie"
   ],
   "metadata": {
    "collapsed": false
   }
  },
  {
   "cell_type": "code",
   "execution_count": null,
   "outputs": [],
   "source": [
    "import random\n",
    "\n",
    "import pylab\n",
    "\n",
    "import pycxsimulator\n",
    "\n",
    "random.seed(None)\n",
    "\n",
    "\n",
    "class Cell:\n",
    "\n",
    "    def __init__(self, spec=None):\n",
    "        self.species = spec if spec is not None else 0\n",
    "        self.x = None\n",
    "        self.y = None\n",
    "        self.health = self.species * 2\n",
    "\n",
    "    def set_location(self, pos_x, pos_y):\n",
    "        self.x = pos_x\n",
    "        self.y = pos_y\n",
    "\n",
    "    def set_species(self, num):\n",
    "        health_by_species = [0,2,4]\n",
    "        self.species, self.health = (num, health_by_species[num]) if num in [0,1,2] else (0, 0)\n",
    "\n",
    "    def move_here(self, species, health):\n",
    "        self.species, self.health = (species, health) if species in [0,1,2] else (0, 0)\n",
    "\n",
    "    def prey_eat(self):\n",
    "        pass\n",
    "\n",
    "    def prey_reproduce(self):\n",
    "        pass\n",
    "    "
   ],
   "metadata": {
    "collapsed": false,
    "pycharm": {
     "name": "#%%\n"
    }
   }
  },
  {
   "cell_type": "code",
   "execution_count": null,
   "outputs": [],
   "source": [
    "world = []\n",
    "height = 100\n",
    "width = 100\n",
    "empty_val = 0\n",
    "predator_val = 1\n",
    "prey_val = 2\n",
    "\n",
    "def init():\n",
    "    global time, world\n",
    "    time = 0\n",
    "\n",
    "    for x in range(width):\n",
    "        row = []\n",
    "        for y in range(height):\n",
    "            i = random.uniform()\n",
    "            if i <= 0.6:\n",
    "                row.append(Cell(prey_val))\n",
    "            elif i <= 0.8:\n",
    "                row.append(Cell(predator_val))\n",
    "            else:\n",
    "                row.append(Cell(empty_val))\n",
    "        world.append(row)\n",
    "\n",
    "def step():\n",
    "    global time, world\n",
    "    time += 1\n",
    "    for x in range(width):\n",
    "        for y in range(height):\n",
    "            check_neighbors(x,y,world[x][y])\n",
    "\n",
    "def check_neighbors(x,y,cell):\n",
    "    pass\n",
    "\n",
    "def check_neighbour(x,y):\n",
    "    pass\n",
    "\n",
    "def draw():\n",
    "    to_draw = []\n",
    "    for x in range(width):\n",
    "        row = []\n",
    "        for y in range(height):\n",
    "            row.append(world[x][y].species)\n",
    "        to_draw.append(row)\n",
    "    pylab.cla()\n",
    "    pylab.pcolor(to_draw, vmin=0, vmax=2, cmap=pylab.cm.get_cmap(\"binary\"))\n",
    "    pylab.axis('image')\n",
    "    pylab.title('t = ' + str(time))\n",
    "\n",
    "\n",
    "pycxsimulator.GUI().start(func=[init, draw, step])\n",
    "\n",
    "\n"
   ],
   "metadata": {
    "collapsed": false,
    "pycharm": {
     "name": "#%%\n"
    }
   }
  }
 ],
 "metadata": {
  "kernelspec": {
   "display_name": "Python 3",
   "language": "python",
   "name": "python3"
  },
  "language_info": {
   "codemirror_mode": {
    "name": "ipython",
    "version": 2
   },
   "file_extension": ".py",
   "mimetype": "text/x-python",
   "name": "python",
   "nbconvert_exporter": "python",
   "pygments_lexer": "ipython2",
   "version": "2.7.6"
  },
  "pycharm": {
   "stem_cell": {
    "cell_type": "raw",
    "source": [],
    "metadata": {
     "collapsed": false
    }
   }
  }
 },
 "nbformat": 4,
 "nbformat_minor": 0
}